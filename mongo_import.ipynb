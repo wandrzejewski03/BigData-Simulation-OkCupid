{
 "cells": [
  {
   "cell_type": "code",
   "execution_count": 1,
   "id": "4c46dd8f-e3c7-4868-9671-804581221730",
   "metadata": {},
   "outputs": [
    {
     "name": "stdout",
     "output_type": "stream",
     "text": [
      "Requirement already satisfied: pymongo in /home/ubuntu/venv/lib/python3.8/site-packages (3.12.0)\n",
      "Note: you may need to restart the kernel to use updated packages.\n"
     ]
    }
   ],
   "source": [
    "pip install pymongo"
   ]
  },
  {
   "cell_type": "code",
   "execution_count": 2,
   "id": "d6143e68-0456-4564-b8d0-49078f4d91e1",
   "metadata": {},
   "outputs": [],
   "source": [
    "import os\n",
    "import json\n",
    "from pymongo import MongoClient\n",
    "\n",
    "# 1. Connect to MongoDB\n",
    "client = MongoClient(\"mongodb://localhost:27017/\")\n",
    "db = client[\"okcupid_db\"]\n",
    "collection = db[\"clean_profiles\"] # collection is like table in sql\n",
    "\n",
    "# 2. Path to your JSON folder created by Spark\n",
    "json_folder = \"cleaned_profiles.json\"\n",
    "\n",
    "# 3. Find the part file (coalesce creates only one)\n",
    "files = [f for f in os.listdir(json_folder) if f.startswith(\"part\")]\n",
    "\n",
    "# 4. Read and insert JSON lines\n",
    "for file in files:\n",
    "    with open(os.path.join(json_folder, file), 'r') as f:\n",
    "        data = [json.loads(line) for line in f]\n",
    "        collection.insert_many(data)"
   ]
  },
  {
   "cell_type": "code",
   "execution_count": 3,
   "id": "406b96cc-26d8-4ad8-8603-a0a7e533bcfd",
   "metadata": {},
   "outputs": [
    {
     "name": "stdout",
     "output_type": "stream",
     "text": [
      "Total documents: 59946\n"
     ]
    }
   ],
   "source": [
    "print(\"Total documents:\", collection.count_documents({}))"
   ]
  },
  {
   "cell_type": "code",
   "execution_count": 4,
   "id": "80ff6a73-018a-4802-89d5-e767c580483d",
   "metadata": {},
   "outputs": [
    {
     "data": {
      "text/plain": [
       "{'_id': ObjectId('685b0472536a16625f472009'),\n",
       " 'age': 29,\n",
       " 'status': 'single',\n",
       " 'sex': 'm',\n",
       " 'orientation': 'straight',\n",
       " 'body_type': 'average',\n",
       " 'diet': 'strictly anything',\n",
       " 'drinks': 'socially',\n",
       " 'drugs': 'never',\n",
       " 'education': 'graduated from masters program',\n",
       " 'ethnicity': 'white',\n",
       " 'height': 69.0,\n",
       " 'income': -1,\n",
       " 'job': 'sales / marketing / biz dev',\n",
       " 'last_online': '2011-12-28-13-25',\n",
       " 'location': 'san rafael, california',\n",
       " 'offspring': '.',\n",
       " 'pets': '.',\n",
       " 'religion': 'agnosticism but not too serious about it',\n",
       " 'sign': 'libra but it doesn&rsquo;t matter',\n",
       " 'smokes': 'no',\n",
       " 'speaks': 'english (fluently)',\n",
       " 'essay0': \"the dog in the pic is toby...he's not mine, just a prop. i just finished grad school and i'm trying hard to assimilate back into the working world. although i'd rather be hanging out by the pool, having a job is nice too. i'm a casual guy; i enjoy going places where t-shirts and cargo shorts are acceptable attire. i enjoy relaxing and a good conversation. i'm a good host and i love cooking people dinner. i can't follow a recipe to save my life but i promise whatever i make will be delicious.\",\n",
       " 'essay1': 'catching up on hulu...',\n",
       " 'essay2': 'making pupusas quoting lines from arrested development drinking coffee fixing things',\n",
       " 'essay3': \"my glasses and the fact that i'm not wearing a jacket, even if it's cold out.\",\n",
       " 'essay4': \"- i have a sick preference for reading business nonfiction books. - my music tastes are vast, and i'm always looking for new bands to enjoy: the faint, thursday, ratatat, reggie and the full effect, clem snide, atmosphere, lil wayne, a skylit drive. - i don't have cable but i still watch my fair share of tv: 30rock, family guy, daily show, the office, parks and rec.\",\n",
       " 'essay5': '- coffee - salsa - ipod - ice cream - the beach - lake tahoe',\n",
       " 'essay6': '...finding enough quarters to do my laundry.',\n",
       " 'essay7': 'watching hoarders on netflix.',\n",
       " 'essay8': \"i have a custom painted truck. it's bold, a little too bold sometimes.\",\n",
       " 'essay9': \"i'm looking to meet fun people in the north bay, to date or to just hang out. i want to get to know the area better and get the most out of living up here.\",\n",
       " 'full_profile': \"the dog in the pic is toby...he's not mine, just a prop. i just finished grad school and i'm trying hard to assimilate back into the working world. although i'd rather be hanging out by the pool, having a job is nice too. i'm a casual guy; i enjoy going places where t-shirts and cargo shorts are acceptable attire. i enjoy relaxing and a good conversation. i'm a good host and i love cooking people dinner. i can't follow a recipe to save my life but i promise whatever i make will be delicious. catching up on hulu... making pupusas quoting lines from arrested development drinking coffee fixing things my glasses and the fact that i'm not wearing a jacket, even if it's cold out. - i have a sick preference for reading business nonfiction books. - my music tastes are vast, and i'm always looking for new bands to enjoy: the faint, thursday, ratatat, reggie and the full effect, clem snide, atmosphere, lil wayne, a skylit drive. - i don't have cable but i still watch my fair share of tv: 30rock, family guy, daily show, the office, parks and rec. - coffee - salsa - ipod - ice cream - the beach - lake tahoe ...finding enough quarters to do my laundry. watching hoarders on netflix. i have a custom painted truck. it's bold, a little too bold sometimes. i'm looking to meet fun people in the north bay, to date or to just hang out. i want to get to know the area better and get the most out of living up here.\"}"
      ]
     },
     "execution_count": 4,
     "metadata": {},
     "output_type": "execute_result"
    }
   ],
   "source": [
    "collection.find_one()"
   ]
  },
  {
   "cell_type": "code",
   "execution_count": 5,
   "id": "dec40015-da56-4ab1-830a-394fd4fd0b17",
   "metadata": {},
   "outputs": [
    {
     "name": "stdout",
     "output_type": "stream",
     "text": [
      "{'_id': ObjectId('685b0472536a16625f472009'), 'age': 29, 'status': 'single', 'sex': 'm', 'orientation': 'straight', 'body_type': 'average', 'diet': 'strictly anything', 'drinks': 'socially', 'drugs': 'never', 'education': 'graduated from masters program', 'ethnicity': 'white', 'height': 69.0, 'income': -1, 'job': 'sales / marketing / biz dev', 'last_online': '2011-12-28-13-25', 'location': 'san rafael, california', 'offspring': '.', 'pets': '.', 'religion': 'agnosticism but not too serious about it', 'sign': 'libra but it doesn&rsquo;t matter', 'smokes': 'no', 'speaks': 'english (fluently)', 'essay0': \"the dog in the pic is toby...he's not mine, just a prop. i just finished grad school and i'm trying hard to assimilate back into the working world. although i'd rather be hanging out by the pool, having a job is nice too. i'm a casual guy; i enjoy going places where t-shirts and cargo shorts are acceptable attire. i enjoy relaxing and a good conversation. i'm a good host and i love cooking people dinner. i can't follow a recipe to save my life but i promise whatever i make will be delicious.\", 'essay1': 'catching up on hulu...', 'essay2': 'making pupusas quoting lines from arrested development drinking coffee fixing things', 'essay3': \"my glasses and the fact that i'm not wearing a jacket, even if it's cold out.\", 'essay4': \"- i have a sick preference for reading business nonfiction books. - my music tastes are vast, and i'm always looking for new bands to enjoy: the faint, thursday, ratatat, reggie and the full effect, clem snide, atmosphere, lil wayne, a skylit drive. - i don't have cable but i still watch my fair share of tv: 30rock, family guy, daily show, the office, parks and rec.\", 'essay5': '- coffee - salsa - ipod - ice cream - the beach - lake tahoe', 'essay6': '...finding enough quarters to do my laundry.', 'essay7': 'watching hoarders on netflix.', 'essay8': \"i have a custom painted truck. it's bold, a little too bold sometimes.\", 'essay9': \"i'm looking to meet fun people in the north bay, to date or to just hang out. i want to get to know the area better and get the most out of living up here.\", 'full_profile': \"the dog in the pic is toby...he's not mine, just a prop. i just finished grad school and i'm trying hard to assimilate back into the working world. although i'd rather be hanging out by the pool, having a job is nice too. i'm a casual guy; i enjoy going places where t-shirts and cargo shorts are acceptable attire. i enjoy relaxing and a good conversation. i'm a good host and i love cooking people dinner. i can't follow a recipe to save my life but i promise whatever i make will be delicious. catching up on hulu... making pupusas quoting lines from arrested development drinking coffee fixing things my glasses and the fact that i'm not wearing a jacket, even if it's cold out. - i have a sick preference for reading business nonfiction books. - my music tastes are vast, and i'm always looking for new bands to enjoy: the faint, thursday, ratatat, reggie and the full effect, clem snide, atmosphere, lil wayne, a skylit drive. - i don't have cable but i still watch my fair share of tv: 30rock, family guy, daily show, the office, parks and rec. - coffee - salsa - ipod - ice cream - the beach - lake tahoe ...finding enough quarters to do my laundry. watching hoarders on netflix. i have a custom painted truck. it's bold, a little too bold sometimes. i'm looking to meet fun people in the north bay, to date or to just hang out. i want to get to know the area better and get the most out of living up here.\"}\n",
      "{'_id': ObjectId('685b0472536a16625f47200a'), 'age': 26, 'status': 'available', 'sex': 'm', 'orientation': 'straight', 'body_type': 'fit', 'diet': 'strictly anything', 'drinks': 'not at all', 'drugs': 'never', 'education': 'graduated from college/university', 'ethnicity': 'other', 'height': 77.0, 'income': 40000, 'job': 'education / academia', 'last_online': '2012-06-30-11-24', 'location': 'oakland, california', 'offspring': \"doesn't have kids, but wants them\", 'pets': 'likes dogs', 'religion': 'christianity and somewhat serious about it', 'sign': 'aquarius', 'smokes': 'no', 'speaks': 'english (fluently)', 'essay0': \"this is the profile i answer all of those fun questions on.  i wouldn't admit to many of these questions irl.\", 'essay1': 'things and stuff', 'essay2': 'stuff and things.', 'essay3': 'that this profile is used to answer the questions honestly and anonymously to see who would connect with me mentally.', 'essay4': \"on my real profile. read this thing look it up to get a feel for my music preference.  everyone's feeling pretty it's hotter than july though the world's full of problems they couldn't touch us even if they tried from the park i hear rhythms marley's hot on the box tonight there will be a party on the corner at the end of the block  didn't know you would be jammin' until the break of dawn i bet you nobody ever told you that you would be jammin' until the break of dawn you would be jammin' and jammin' and jammin' jam oh  they want us to join their fighting but our answer today is to let all our worries like the breeze through our fingers slip away peace has come to zimbabwe third world's right on the one now's the time for celebration cause we've only just begun  didn't know you would be jammin' until the break of dawn bet you nobody ever told you that you would be jammin' until the break of dawn bet you nobody ever told you that you (we're in the middle of the makin's of the master blaster jammin') would be jammin' until the break of dawn i know nobody told you that you you would be jammin' and jammin' and jammin' jam oh (we're in the middle of the makin's of the master blaster jammin') would be jammin' until the break of dawn we're jammin, jammin, jammin' jam oh  you ask me am i happy well as matter of fact i can say that i'm ecstatic cause we all just made a pact we';ve agreed to get together joined as children in jah when you're moving in the positive your destination is the brightest star  you didn't know you (we're in the middle of the makin's of the master blaster jammin') would be jammin' until the break of dawn oh, oh, oh, oh, oh, oh (we're in the middle of the makin's of the master blaster jammin') would be jammin' until the break of dawn don't you stop the music oh no (we're in the middle of the makin's of the master blaster jammin') (we're in the middle of the makin's of the master blaster jammin') oh, oh , oh you (we're in the middle of the makin's of the master blaster jammin') would be jammin' until the break of dawn  i bet if someone approached you yesterday to tell you that you would be jammin' you would not believe it because you never thought that you would be jammin' oh, oh, oh, oh (we're in the middle of the makin's of the master blaster jammin') jammin 'til the break of dawn oh, oh, oh you may as well believe what you are feeling because you feel your body jammin' oh oh you would be jammin' until the break of dawn (we're in the middle of the makin's of the master blaster jammin') (we're in the middle of the makin's of the master blaster jammin')\", 'essay5': 'on my real profile', 'essay6': '\"on my real profile. filler, read this.  the bill of rights: a transcription  the preamble to the bill of rights  congress of the united states begun and held at the city of new-york, on wednesday the fourth of march, one thousand seven hundred and eighty nine.  the conventions of a number of the states, having at the time of their adopting the constitution, expressed a desire, in order to prevent misconstruction or abuse of its powers, that further declaratory and restrictive clauses should be added: and as extending the ground of public confidence in the government, will best ensure the beneficent ends of its institution.  resolved by the senate and house of representatives of the united states of america, in congress assembled, two thirds of both houses concurring, that the following articles be proposed to the legislatures of the several states, as amendments to the constitution of the united states, all, or any of which articles, when ratified by three fourths of the said legislatures, to be valid to all intents and purposes, as part of the said constitution; viz.  articles in addition to, and amendment of the constitution of the united states of america, proposed by congress, and ratified by the legislatures of the several states, pursuant to the fifth article of the original constitution.  note: the following text is a transcription of the first ten amendments to the constitution in their original form. these amendments were ratified december 15, 1791, and form what is known as the \"\"bill of rights.\"\"  amendment i  congress shall make no law respecting an establishment of religion', 'essay7': ' or prohibiting the free exercise thereof; or abridging the freedom of speech', 'essay8': ' or of the press; or the right of the people peaceably to assemble', 'essay9': ' and to petition the government for a redress of grievances.  amendment ii  a well regulated militia', 'full_profile': 'this is the profile i answer all of those fun questions on.  i wouldn\\'t admit to many of these questions irl. things and stuff stuff and things. that this profile is used to answer the questions honestly and anonymously to see who would connect with me mentally. on my real profile. read this thing look it up to get a feel for my music preference.  everyone\\'s feeling pretty it\\'s hotter than july though the world\\'s full of problems they couldn\\'t touch us even if they tried from the park i hear rhythms marley\\'s hot on the box tonight there will be a party on the corner at the end of the block  didn\\'t know you would be jammin\\' until the break of dawn i bet you nobody ever told you that you would be jammin\\' until the break of dawn you would be jammin\\' and jammin\\' and jammin\\' jam oh  they want us to join their fighting but our answer today is to let all our worries like the breeze through our fingers slip away peace has come to zimbabwe third world\\'s right on the one now\\'s the time for celebration cause we\\'ve only just begun  didn\\'t know you would be jammin\\' until the break of dawn bet you nobody ever told you that you would be jammin\\' until the break of dawn bet you nobody ever told you that you (we\\'re in the middle of the makin\\'s of the master blaster jammin\\') would be jammin\\' until the break of dawn i know nobody told you that you you would be jammin\\' and jammin\\' and jammin\\' jam oh (we\\'re in the middle of the makin\\'s of the master blaster jammin\\') would be jammin\\' until the break of dawn we\\'re jammin, jammin, jammin\\' jam oh  you ask me am i happy well as matter of fact i can say that i\\'m ecstatic cause we all just made a pact we\\';ve agreed to get together joined as children in jah when you\\'re moving in the positive your destination is the brightest star  you didn\\'t know you (we\\'re in the middle of the makin\\'s of the master blaster jammin\\') would be jammin\\' until the break of dawn oh, oh, oh, oh, oh, oh (we\\'re in the middle of the makin\\'s of the master blaster jammin\\') would be jammin\\' until the break of dawn don\\'t you stop the music oh no (we\\'re in the middle of the makin\\'s of the master blaster jammin\\') (we\\'re in the middle of the makin\\'s of the master blaster jammin\\') oh, oh , oh you (we\\'re in the middle of the makin\\'s of the master blaster jammin\\') would be jammin\\' until the break of dawn  i bet if someone approached you yesterday to tell you that you would be jammin\\' you would not believe it because you never thought that you would be jammin\\' oh, oh, oh, oh (we\\'re in the middle of the makin\\'s of the master blaster jammin\\') jammin \\'til the break of dawn oh, oh, oh you may as well believe what you are feeling because you feel your body jammin\\' oh oh you would be jammin\\' until the break of dawn (we\\'re in the middle of the makin\\'s of the master blaster jammin\\') (we\\'re in the middle of the makin\\'s of the master blaster jammin\\') on my real profile \"on my real profile. filler, read this.  the bill of rights: a transcription  the preamble to the bill of rights  congress of the united states begun and held at the city of new-york, on wednesday the fourth of march, one thousand seven hundred and eighty nine.  the conventions of a number of the states, having at the time of their adopting the constitution, expressed a desire, in order to prevent misconstruction or abuse of its powers, that further declaratory and restrictive clauses should be added: and as extending the ground of public confidence in the government, will best ensure the beneficent ends of its institution.  resolved by the senate and house of representatives of the united states of america, in congress assembled, two thirds of both houses concurring, that the following articles be proposed to the legislatures of the several states, as amendments to the constitution of the united states, all, or any of which articles, when ratified by three fourths of the said legislatures, to be valid to all intents and purposes, as part of the said constitution; viz.  articles in addition to, and amendment of the constitution of the united states of america, proposed by congress, and ratified by the legislatures of the several states, pursuant to the fifth article of the original constitution.  note: the following text is a transcription of the first ten amendments to the constitution in their original form. these amendments were ratified december 15, 1791, and form what is known as the \"\"bill of rights.\"\"  amendment i  congress shall make no law respecting an establishment of religion  or prohibiting the free exercise thereof; or abridging the freedom of speech  or of the press; or the right of the people peaceably to assemble  and to petition the government for a redress of grievances.  amendment ii  a well regulated militia'}\n",
      "{'_id': ObjectId('685b0472536a16625f47200b'), 'age': 53, 'status': 'single', 'sex': 'f', 'orientation': 'straight', 'body_type': 'average', 'diet': '.', 'drinks': 'socially', 'drugs': 'never', 'education': 'graduated from college/university', 'ethnicity': 'white', 'height': 66.0, 'income': -1, 'job': 'other', 'last_online': '2012-06-29-10-51', 'location': 'novato, california', 'offspring': '.', 'pets': 'likes dogs and likes cats', 'religion': 'catholicism but not too serious about it', 'sign': '.', 'smokes': 'no', 'speaks': 'english (fluently), italian (fluently), spanish (poorly)', 'essay0': 'i am half italian, love to travel (having lived abroad) and am athletic.', 'essay1': '.', 'essay2': 'volunteering and being organized. i like to be active and meeting people who enjoy life.', 'essay3': '.', 'essay4': 'autobiographies, all kinds of music and food.', 'essay5': 'to live life to the fullest, to meet someone of equal values, to enjoy nature, music and be happy.', 'essay6': '.', 'essay7': '.', 'essay8': '.', 'essay9': '.', 'full_profile': 'i am half italian, love to travel (having lived abroad) and am athletic. . volunteering and being organized. i like to be active and meeting people who enjoy life. . autobiographies, all kinds of music and food. to live life to the fullest, to meet someone of equal values, to enjoy nature, music and be happy. . . . .'}\n",
      "{'_id': ObjectId('685b0472536a16625f47200c'), 'age': 27, 'status': 'single', 'sex': 'm', 'orientation': 'straight', 'body_type': 'athletic', 'diet': '.', 'drinks': 'socially', 'drugs': '.', 'education': 'graduated from college/university', 'ethnicity': 'white', 'height': 75.0, 'income': -1, 'job': 'other', 'last_online': '2012-06-30-15-51', 'location': 'san francisco, california', 'offspring': '.', 'pets': 'likes dogs', 'religion': '.', 'sign': 'gemini but it doesn&rsquo;t matter', 'smokes': 'no', 'speaks': 'english (fluently), spanish (poorly)', 'essay0': 'a guy with a story, both born and raised here in the sf area.  i have many hobbies and interests, and i love sharing the experience with people.  i like to stay fit and healthy. i do my best to move as much as i can. i also get a big kick out of cooking.', 'essay1': 'i went to school, got my degree, and also became a paramedic. i like my training, but i am also looking into other ways to make a living.  yes, i have one of those job thingies. i work in the non-profit world with farmers markets. .', 'essay2': \"really good is a perspective. from where i sit i am really good at the following:  outsiding (you give me the activity, i'll do it) sailing cooking talking exploring cycling\", 'essay3': \"i'm tall, so unless i'm standing next to some nba athlete, people tend to notice that. also, my eyes squint when i smile. people like pointing that out too.\", 'essay4': 'books: i cannot say i read as a hobby, however, books are a good thing. sometime one of them strikes me. books: airborne, the power of one, my old man and the sea  movies: endless summer 1 & 2, prefontaine, breaking away, and a few others...  music: red hot chili peppers, the marz volta, leftover salmon, bon iver, gym class heroes, old crow medicine show.. really, i do not care. i like almost all of it.  food: love it. all of it. especially when i cook it.', 'essay5': 'family wind burritos water flip flops', 'essay6': \"i think i spend a lot of time thinking. i really like letting my mind wander but if i made a list, it would be:  sailing exploring running food & cooking what's at the bottom of the ocean having a giant squid as a pet\", 'essay7': \"sometimes i work on friday, sometime i just play so hard all day i'm pooped come evening. otherwise, i may be with buddies, may be out riding alone, may be having a beer or may be sleeping. who knows.  diversity is key.\", 'essay8': \"the secrets i hold wont harm anyone. i do not have much to admit. i guess i could tell you i have an outty belly button, and i used to not go swimming because i was embarrassed. i moved on though, isn't that good?\", 'essay9': 'you have a general interest in chatting, meeting or exercising.  oh, if you want to sail around the world, or think that sounds like fun... definitely ring me.', 'full_profile': \"a guy with a story, both born and raised here in the sf area.  i have many hobbies and interests, and i love sharing the experience with people.  i like to stay fit and healthy. i do my best to move as much as i can. i also get a big kick out of cooking. i went to school, got my degree, and also became a paramedic. i like my training, but i am also looking into other ways to make a living.  yes, i have one of those job thingies. i work in the non-profit world with farmers markets. . really good is a perspective. from where i sit i am really good at the following:  outsiding (you give me the activity, i'll do it) sailing cooking talking exploring cycling i'm tall, so unless i'm standing next to some nba athlete, people tend to notice that. also, my eyes squint when i smile. people like pointing that out too. books: i cannot say i read as a hobby, however, books are a good thing. sometime one of them strikes me. books: airborne, the power of one, my old man and the sea  movies: endless summer 1 & 2, prefontaine, breaking away, and a few others...  music: red hot chili peppers, the marz volta, leftover salmon, bon iver, gym class heroes, old crow medicine show.. really, i do not care. i like almost all of it.  food: love it. all of it. especially when i cook it. family wind burritos water flip flops i think i spend a lot of time thinking. i really like letting my mind wander but if i made a list, it would be:  sailing exploring running food & cooking what's at the bottom of the ocean having a giant squid as a pet sometimes i work on friday, sometime i just play so hard all day i'm pooped come evening. otherwise, i may be with buddies, may be out riding alone, may be having a beer or may be sleeping. who knows.  diversity is key. the secrets i hold wont harm anyone. i do not have much to admit. i guess i could tell you i have an outty belly button, and i used to not go swimming because i was embarrassed. i moved on though, isn't that good? you have a general interest in chatting, meeting or exercising.  oh, if you want to sail around the world, or think that sounds like fun... definitely ring me.\"}\n",
      "{'_id': ObjectId('685b0472536a16625f47200d'), 'age': 21, 'status': 'single', 'sex': 'm', 'orientation': 'straight', 'body_type': 'average', 'diet': 'anything', 'drinks': 'socially', 'drugs': 'never', 'education': 'working on college/university', 'ethnicity': 'white', 'height': 70.0, 'income': 20000, 'job': 'other', 'last_online': '2012-04-04-20-17', 'location': 'vallejo, california', 'offspring': \"doesn't have kids\", 'pets': '.', 'religion': 'catholicism and laughing about it', 'sign': 'gemini but it doesn&rsquo;t matter', 'smokes': 'no', 'speaks': 'english', 'essay0': '.', 'essay1': 'working and going to college.', 'essay2': '.', 'essay3': '.', 'essay4': 'books: none  movies: all types of movies, especially comedy. favorites include i love you man, forgetting sarah marshall, and pretty much any old adam sandler movie. his new ones suck.  shows: anything on hbo. the entourage and game of thrones are favorites. also, how i met your mother and the office.  music: alternative rock like foster the poeple, neon trees, the black keys. favorite band of all time is blink 182!!! ill also listen to some r&b/ hip hop but for the most part i stick to alt. rock.  food: all', 'essay5': 'car phone computer music tv san francisco 49ers', 'essay6': '.', 'essay7': '.', 'essay8': '.', 'essay9': '.', 'full_profile': '. working and going to college. . . books: none  movies: all types of movies, especially comedy. favorites include i love you man, forgetting sarah marshall, and pretty much any old adam sandler movie. his new ones suck.  shows: anything on hbo. the entourage and game of thrones are favorites. also, how i met your mother and the office.  music: alternative rock like foster the poeple, neon trees, the black keys. favorite band of all time is blink 182!!! ill also listen to some r&b/ hip hop but for the most part i stick to alt. rock.  food: all car phone computer music tv san francisco 49ers . . . .'}\n"
     ]
    }
   ],
   "source": [
    "for doc in collection.find().limit(5):\n",
    "    print(doc)"
   ]
  },
  {
   "cell_type": "markdown",
   "id": "07e318c3-b678-4fc0-be8b-f063c0a6e551",
   "metadata": {},
   "source": [
    "------------------------------------------------------\n",
    "# THE RED BUTTON "
   ]
  },
  {
   "cell_type": "code",
   "execution_count": 8,
   "id": "f9fe707a-b88a-42cb-9752-2ecaa4e7444d",
   "metadata": {},
   "outputs": [
    {
     "name": "stdout",
     "output_type": "stream",
     "text": [
      "Total documents in collection: 59946\n"
     ]
    }
   ],
   "source": [
    "# from pymongo import MongoClient\n",
    "\n",
    "# client = MongoClient(\"mongodb://localhost:27017/\")\n",
    "# db = client[\"okcupid_db\"]\n",
    "# collection = db[\"clean_profiles\"]\n",
    "\n",
    "# print(\"Total documents in collection:\", collection.count_documents({}))"
   ]
  },
  {
   "cell_type": "code",
   "execution_count": 7,
   "id": "4e6b6870-a1a1-45ad-a67e-340e4dbeb7cd",
   "metadata": {},
   "outputs": [],
   "source": [
    "# for collection_name in db.list_collection_names():\n",
    "#     db.drop_collection(collection_name)\n",
    "\n",
    "# print(\"All collections dropped from okcupid_db\")"
   ]
  },
  {
   "cell_type": "code",
   "execution_count": null,
   "id": "ed495a79-aa86-42eb-ba21-72efebcecdb1",
   "metadata": {},
   "outputs": [],
   "source": []
  }
 ],
 "metadata": {
  "kernelspec": {
   "display_name": "Python 3 (ipykernel)",
   "language": "python",
   "name": "python3"
  },
  "language_info": {
   "codemirror_mode": {
    "name": "ipython",
    "version": 3
   },
   "file_extension": ".py",
   "mimetype": "text/x-python",
   "name": "python",
   "nbconvert_exporter": "python",
   "pygments_lexer": "ipython3",
   "version": "3.8.10"
  }
 },
 "nbformat": 4,
 "nbformat_minor": 5
}
