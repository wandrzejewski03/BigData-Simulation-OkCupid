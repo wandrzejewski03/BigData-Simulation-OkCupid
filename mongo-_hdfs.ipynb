{
 "cells": [
  {
   "cell_type": "code",
   "execution_count": 1,
   "id": "6d23c448-8792-4334-ae4d-b2db9c1ad71a",
   "metadata": {},
   "outputs": [
    {
     "name": "stdout",
     "output_type": "stream",
     "text": [
      "Saved local CSV: okcupid_clean.csv\n",
      "Uploaded to HDFS: /user/hadoop/data/okcupid_clean.csv\n"
     ]
    }
   ],
   "source": [
    "from pymongo import MongoClient\n",
    "import pandas as pd\n",
    "import os\n",
    "\n",
    "# Step 1: Connect to MongoDB\n",
    "client = MongoClient(\"mongodb://localhost:27017/\")\n",
    "db = client[\"okcupid_db\"]\n",
    "collection = db[\"clean_profiles\"]\n",
    "\n",
    "# Step 2: Load all documents \n",
    "data = list(collection.find())\n",
    "\n",
    "# Step 3: Convert to DataFrame\n",
    "df = pd.DataFrame(data)\n",
    "\n",
    "# Step 4: Save to CSV \n",
    "local_csv_path = \"okcupid_clean.csv\"\n",
    "df.to_csv(local_csv_path, index=False)\n",
    "print(f\"Saved local CSV: {local_csv_path}\")\n",
    "\n",
    "# Step 6: Upload to HDFS\n",
    "hdfs_dir = \"/user/hadoop/data\"\n",
    "hdfs_path = f\"{hdfs_dir}/okcupid_clean.csv\"\n",
    "\n",
    "os.system(f\"hdfs dfs -put -f {local_csv_path} {hdfs_path}\")\n",
    "print(f\"Uploaded to HDFS: {hdfs_path}\")\n"
   ]
  },
  {
   "cell_type": "code",
   "execution_count": 2,
   "id": "4f4192fb-563c-44bd-a6da-bab520c8e514",
   "metadata": {},
   "outputs": [
    {
     "name": "stdout",
     "output_type": "stream",
     "text": [
      "Found 2 items\n",
      "-rw-r--r--   1 ubuntu supergroup  220385696 2025-06-24 22:03 /user/hadoop/data/okcupid_clean.csv\n",
      "-rw-r--r--   1 ubuntu supergroup  137307603 2025-06-24 12:02 /user/hadoop/data/okcupid_profiles.csv\n"
     ]
    }
   ],
   "source": [
    "!hdfs dfs -ls /user/hadoop/data"
   ]
  },
  {
   "cell_type": "code",
   "execution_count": 3,
   "id": "bb29250e-0794-4328-8efe-fe4561970f79",
   "metadata": {},
   "outputs": [
    {
     "name": "stdout",
     "output_type": "stream",
     "text": [
      "59947\n"
     ]
    }
   ],
   "source": [
    "!hdfs dfs -cat /user/hadoop/data/okcupid_clean.csv | wc -l"
   ]
  },
  {
   "cell_type": "code",
   "execution_count": null,
   "id": "839462e2-3ed0-4ba5-a15c-09a7e464b2ca",
   "metadata": {},
   "outputs": [],
   "source": []
  }
 ],
 "metadata": {
  "kernelspec": {
   "display_name": "Python 3 (ipykernel)",
   "language": "python",
   "name": "python3"
  },
  "language_info": {
   "codemirror_mode": {
    "name": "ipython",
    "version": 3
   },
   "file_extension": ".py",
   "mimetype": "text/x-python",
   "name": "python",
   "nbconvert_exporter": "python",
   "pygments_lexer": "ipython3",
   "version": "3.8.10"
  }
 },
 "nbformat": 4,
 "nbformat_minor": 5
}
