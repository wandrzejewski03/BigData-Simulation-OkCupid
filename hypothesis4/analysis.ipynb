{
 "cells": [
  {
   "cell_type": "code",
   "execution_count": 1,
   "id": "694bc003-806f-48f7-bb06-97e6bdbaae9a",
   "metadata": {},
   "outputs": [
    {
     "name": "stderr",
     "output_type": "stream",
     "text": [
      "25/06/24 22:20:39 WARN Utils: Your hostname, dsbda-vm resolves to a loopback address: 127.0.1.1; using 10.0.2.15 instead (on interface enp0s3)\n",
      "25/06/24 22:20:39 WARN Utils: Set SPARK_LOCAL_IP if you need to bind to another address\n",
      "Using Spark's default log4j profile: org/apache/spark/log4j-defaults.properties\n",
      "Setting default log level to \"WARN\".\n",
      "To adjust logging level use sc.setLogLevel(newLevel). For SparkR, use setLogLevel(newLevel).\n",
      "25/06/24 22:20:40 WARN NativeCodeLoader: Unable to load native-hadoop library for your platform... using builtin-java classes where applicable\n",
      "25/06/24 22:20:41 WARN Utils: Service 'SparkUI' could not bind on port 4040. Attempting port 4041.\n",
      "                                                                                "
     ]
    },
    {
     "name": "stdout",
     "output_type": "stream",
     "text": [
      "Unique religion values and counts:\n",
      "\n"
     ]
    },
    {
     "name": "stderr",
     "output_type": "stream",
     "text": [
      "                                                                                "
     ]
    },
    {
     "name": "stdout",
     "output_type": "stream",
     "text": [
      "+------------------------------------------+-----+\n",
      "|religion                                  |count|\n",
      "+------------------------------------------+-----+\n",
      "|.                                         |20226|\n",
      "|agnosticism                               |2724 |\n",
      "|other                                     |2691 |\n",
      "|agnosticism but not too serious about it  |2636 |\n",
      "|agnosticism and laughing about it         |2496 |\n",
      "|catholicism but not too serious about it  |2318 |\n",
      "|atheism                                   |2175 |\n",
      "|other and laughing about it               |2119 |\n",
      "|atheism and laughing about it             |2074 |\n",
      "|christianity                              |1957 |\n",
      "|christianity but not too serious about it |1952 |\n",
      "|other but not too serious about it        |1554 |\n",
      "|judaism but not too serious about it      |1517 |\n",
      "|atheism but not too serious about it      |1318 |\n",
      "|catholicism                               |1064 |\n",
      "|christianity and somewhat serious about it|927  |\n",
      "|atheism and somewhat serious about it     |848  |\n",
      "|other and somewhat serious about it       |846  |\n",
      "|catholicism and laughing about it         |726  |\n",
      "|judaism and laughing about it             |681  |\n",
      "+------------------------------------------+-----+\n",
      "only showing top 20 rows\n",
      "\n",
      "Unique education levels and counts:\n",
      "\n"
     ]
    },
    {
     "name": "stderr",
     "output_type": "stream",
     "text": [
      "[Stage 5:==============>                                            (1 + 3) / 4]"
     ]
    },
    {
     "name": "stdout",
     "output_type": "stream",
     "text": [
      "+---------------------------------+-----+\n",
      "|education                        |count|\n",
      "+---------------------------------+-----+\n",
      "|graduated from college/university|23959|\n",
      "|graduated from masters program   |8961 |\n",
      "|.                                |6628 |\n",
      "|working on college/university    |5712 |\n",
      "|working on masters program       |1683 |\n",
      "|graduated from two-year college  |1531 |\n",
      "|graduated from high school       |1428 |\n",
      "|graduated from ph.d program      |1272 |\n",
      "|graduated from law school        |1122 |\n",
      "|working on two-year college      |1074 |\n",
      "|dropped out of college/university|995  |\n",
      "|working on ph.d program          |983  |\n",
      "|college/university               |801  |\n",
      "|graduated from space camp        |657  |\n",
      "|dropped out of space camp        |523  |\n",
      "|graduated from med school        |446  |\n",
      "|working on space camp            |445  |\n",
      "|working on law school            |269  |\n",
      "|two-year college                 |222  |\n",
      "|working on med school            |212  |\n",
      "+---------------------------------+-----+\n",
      "only showing top 20 rows\n",
      "\n"
     ]
    },
    {
     "name": "stderr",
     "output_type": "stream",
     "text": [
      "                                                                                "
     ]
    }
   ],
   "source": [
    "from pyspark.sql import SparkSession\n",
    "from pyspark.sql.functions import col, trim, lower\n",
    "\n",
    "# 1. Start Spark session\n",
    "spark = SparkSession.builder \\\n",
    "    .appName(\"Aggregation_from_HDFS\") \\\n",
    "    .getOrCreate()\n",
    "\n",
    "# 2. Load the CSV from HDFS\n",
    "df = spark.read.csv(\"hdfs://localhost:54310/user/hadoop/data/okcupid_clean.csv\", header=True, inferSchema=True)\n",
    "\n",
    "# 3. Normalize string columns\n",
    "df = df.withColumn(\"religion\", trim(lower(col(\"religion\"))))\n",
    "df = df.withColumn(\"education\", trim(lower(col(\"education\"))))\n",
    "\n",
    "# 4. Group and count religions\n",
    "print(\"Unique religion values and counts:\\n\")\n",
    "religion_counts = df.groupBy(\"religion\").count().orderBy(\"count\", ascending=False)\n",
    "religion_counts.show(truncate=False)\n",
    "\n",
    "# 5. Group and count education levels\n",
    "print(\"Unique education levels and counts:\\n\")\n",
    "education_counts = df.groupBy(\"education\").count().orderBy(\"count\", ascending=False)\n",
    "education_counts.show(truncate=False)\n"
   ]
  },
  {
   "cell_type": "code",
   "execution_count": null,
   "id": "8860b3f3-0a82-4a50-8977-dfe2f3a820f5",
   "metadata": {},
   "outputs": [],
   "source": []
  }
 ],
 "metadata": {
  "kernelspec": {
   "display_name": "Python 3 (ipykernel)",
   "language": "python",
   "name": "python3"
  },
  "language_info": {
   "codemirror_mode": {
    "name": "ipython",
    "version": 3
   },
   "file_extension": ".py",
   "mimetype": "text/x-python",
   "name": "python",
   "nbconvert_exporter": "python",
   "pygments_lexer": "ipython3",
   "version": "3.8.10"
  }
 },
 "nbformat": 4,
 "nbformat_minor": 5
}
